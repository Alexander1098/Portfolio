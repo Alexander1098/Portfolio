{
 "cells": [
  {
   "cell_type": "markdown",
   "metadata": {},
   "source": [
    "# The Project Of Making A Handwritten Digits Classifier\n",
    "The project has been prepared by Aliaksandr Varonin."
   ]
  },
  {
   "cell_type": "code",
   "execution_count": 1,
   "metadata": {},
   "outputs": [],
   "source": [
    "import pandas as pd\n",
    "import numpy as np\n",
    "import matplotlib.pyplot as plt\n",
    "%matplotlib inline\n",
    "from sklearn.datasets import load_digits"
   ]
  },
  {
   "cell_type": "markdown",
   "metadata": {},
   "source": [
    "Our first step would be bringing in the main research dataset pre-loaded with the scikit-learn library, within the namespace of sklearn.datasets. The load_digits() function returns a copy of the hand-written digits dataset."
   ]
  },
  {
   "cell_type": "code",
   "execution_count": 2,
   "metadata": {},
   "outputs": [
    {
     "data": {
      "text/html": [
       "<div>\n",
       "<style scoped>\n",
       "    .dataframe tbody tr th:only-of-type {\n",
       "        vertical-align: middle;\n",
       "    }\n",
       "\n",
       "    .dataframe tbody tr th {\n",
       "        vertical-align: top;\n",
       "    }\n",
       "\n",
       "    .dataframe thead th {\n",
       "        text-align: right;\n",
       "    }\n",
       "</style>\n",
       "<table border=\"1\" class=\"dataframe\">\n",
       "  <thead>\n",
       "    <tr style=\"text-align: right;\">\n",
       "      <th></th>\n",
       "      <th>0</th>\n",
       "      <th>1</th>\n",
       "      <th>2</th>\n",
       "      <th>3</th>\n",
       "      <th>4</th>\n",
       "      <th>5</th>\n",
       "      <th>6</th>\n",
       "      <th>7</th>\n",
       "      <th>8</th>\n",
       "      <th>9</th>\n",
       "      <th>...</th>\n",
       "      <th>54</th>\n",
       "      <th>55</th>\n",
       "      <th>56</th>\n",
       "      <th>57</th>\n",
       "      <th>58</th>\n",
       "      <th>59</th>\n",
       "      <th>60</th>\n",
       "      <th>61</th>\n",
       "      <th>62</th>\n",
       "      <th>63</th>\n",
       "    </tr>\n",
       "  </thead>\n",
       "  <tbody>\n",
       "    <tr>\n",
       "      <th>1358</th>\n",
       "      <td>0.0</td>\n",
       "      <td>0.0</td>\n",
       "      <td>7.0</td>\n",
       "      <td>16.0</td>\n",
       "      <td>16.0</td>\n",
       "      <td>10.0</td>\n",
       "      <td>0.0</td>\n",
       "      <td>0.0</td>\n",
       "      <td>0.0</td>\n",
       "      <td>0.0</td>\n",
       "      <td>...</td>\n",
       "      <td>4.0</td>\n",
       "      <td>0.0</td>\n",
       "      <td>0.0</td>\n",
       "      <td>0.0</td>\n",
       "      <td>7.0</td>\n",
       "      <td>16.0</td>\n",
       "      <td>16.0</td>\n",
       "      <td>11.0</td>\n",
       "      <td>1.0</td>\n",
       "      <td>0.0</td>\n",
       "    </tr>\n",
       "    <tr>\n",
       "      <th>1238</th>\n",
       "      <td>0.0</td>\n",
       "      <td>1.0</td>\n",
       "      <td>13.0</td>\n",
       "      <td>16.0</td>\n",
       "      <td>16.0</td>\n",
       "      <td>12.0</td>\n",
       "      <td>0.0</td>\n",
       "      <td>0.0</td>\n",
       "      <td>0.0</td>\n",
       "      <td>3.0</td>\n",
       "      <td>...</td>\n",
       "      <td>0.0</td>\n",
       "      <td>0.0</td>\n",
       "      <td>0.0</td>\n",
       "      <td>0.0</td>\n",
       "      <td>15.0</td>\n",
       "      <td>3.0</td>\n",
       "      <td>0.0</td>\n",
       "      <td>0.0</td>\n",
       "      <td>0.0</td>\n",
       "      <td>0.0</td>\n",
       "    </tr>\n",
       "    <tr>\n",
       "      <th>1237</th>\n",
       "      <td>0.0</td>\n",
       "      <td>0.0</td>\n",
       "      <td>3.0</td>\n",
       "      <td>16.0</td>\n",
       "      <td>12.0</td>\n",
       "      <td>1.0</td>\n",
       "      <td>0.0</td>\n",
       "      <td>0.0</td>\n",
       "      <td>0.0</td>\n",
       "      <td>0.0</td>\n",
       "      <td>...</td>\n",
       "      <td>0.0</td>\n",
       "      <td>0.0</td>\n",
       "      <td>0.0</td>\n",
       "      <td>0.0</td>\n",
       "      <td>2.0</td>\n",
       "      <td>16.0</td>\n",
       "      <td>14.0</td>\n",
       "      <td>0.0</td>\n",
       "      <td>0.0</td>\n",
       "      <td>0.0</td>\n",
       "    </tr>\n",
       "    <tr>\n",
       "      <th>1440</th>\n",
       "      <td>0.0</td>\n",
       "      <td>2.0</td>\n",
       "      <td>6.0</td>\n",
       "      <td>10.0</td>\n",
       "      <td>12.0</td>\n",
       "      <td>1.0</td>\n",
       "      <td>0.0</td>\n",
       "      <td>0.0</td>\n",
       "      <td>0.0</td>\n",
       "      <td>14.0</td>\n",
       "      <td>...</td>\n",
       "      <td>10.0</td>\n",
       "      <td>0.0</td>\n",
       "      <td>0.0</td>\n",
       "      <td>0.0</td>\n",
       "      <td>5.0</td>\n",
       "      <td>16.0</td>\n",
       "      <td>16.0</td>\n",
       "      <td>14.0</td>\n",
       "      <td>1.0</td>\n",
       "      <td>0.0</td>\n",
       "    </tr>\n",
       "    <tr>\n",
       "      <th>1133</th>\n",
       "      <td>0.0</td>\n",
       "      <td>0.0</td>\n",
       "      <td>1.0</td>\n",
       "      <td>10.0</td>\n",
       "      <td>7.0</td>\n",
       "      <td>0.0</td>\n",
       "      <td>0.0</td>\n",
       "      <td>0.0</td>\n",
       "      <td>0.0</td>\n",
       "      <td>0.0</td>\n",
       "      <td>...</td>\n",
       "      <td>15.0</td>\n",
       "      <td>0.0</td>\n",
       "      <td>0.0</td>\n",
       "      <td>0.0</td>\n",
       "      <td>1.0</td>\n",
       "      <td>12.0</td>\n",
       "      <td>15.0</td>\n",
       "      <td>14.0</td>\n",
       "      <td>6.0</td>\n",
       "      <td>0.0</td>\n",
       "    </tr>\n",
       "  </tbody>\n",
       "</table>\n",
       "<p>5 rows × 64 columns</p>\n",
       "</div>"
      ],
      "text/plain": [
       "       0    1     2     3     4     5    6    7    8     9   ...    54   55  \\\n",
       "1358  0.0  0.0   7.0  16.0  16.0  10.0  0.0  0.0  0.0   0.0  ...   4.0  0.0   \n",
       "1238  0.0  1.0  13.0  16.0  16.0  12.0  0.0  0.0  0.0   3.0  ...   0.0  0.0   \n",
       "1237  0.0  0.0   3.0  16.0  12.0   1.0  0.0  0.0  0.0   0.0  ...   0.0  0.0   \n",
       "1440  0.0  2.0   6.0  10.0  12.0   1.0  0.0  0.0  0.0  14.0  ...  10.0  0.0   \n",
       "1133  0.0  0.0   1.0  10.0   7.0   0.0  0.0  0.0  0.0   0.0  ...  15.0  0.0   \n",
       "\n",
       "       56   57    58    59    60    61   62   63  \n",
       "1358  0.0  0.0   7.0  16.0  16.0  11.0  1.0  0.0  \n",
       "1238  0.0  0.0  15.0   3.0   0.0   0.0  0.0  0.0  \n",
       "1237  0.0  0.0   2.0  16.0  14.0   0.0  0.0  0.0  \n",
       "1440  0.0  0.0   5.0  16.0  16.0  14.0  1.0  0.0  \n",
       "1133  0.0  0.0   1.0  12.0  15.0  14.0  6.0  0.0  \n",
       "\n",
       "[5 rows x 64 columns]"
      ]
     },
     "execution_count": 2,
     "metadata": {},
     "output_type": "execute_result"
    }
   ],
   "source": [
    "digits = load_digits()\n",
    "\n",
    "data = pd.DataFrame(digits['data'])\n",
    "target = pd.Series(digits['target'])\n",
    "\n",
    "shuffled_index = np.random.permutation(data.index)\n",
    "data = data.loc[shuffled_index]\n",
    "target = target.loc[shuffled_index]\n",
    "\n",
    "data.head()"
   ]
  },
  {
   "cell_type": "markdown",
   "metadata": {},
   "source": [
    "In order to illustrate how the process of vizualizing the image from the dataframe looks like, we would perform the following code down the cell. As a result we would observe a zero number."
   ]
  },
  {
   "cell_type": "code",
   "execution_count": 3,
   "metadata": {
    "scrolled": true
   },
   "outputs": [
    {
     "data": {
      "text/plain": [
       "<matplotlib.image.AxesImage at 0x22449b39048>"
      ]
     },
     "execution_count": 3,
     "metadata": {},
     "output_type": "execute_result"
    },
    {
     "data": {
      "image/png": "[encoded data removed]",
      "text/plain": [
       "<Figure size 432x288 with 1 Axes>"
      ]
     },
     "metadata": {
      "needs_background": "light"
     },
     "output_type": "display_data"
    }
   ],
   "source": [
    "first_image = data.loc[0]\n",
    "np_image = first_image.values\n",
    "np_image = np_image.reshape(8,8)\n",
    "plt.imshow(np_image, cmap='gray_r')"
   ]
  },
  {
   "cell_type": "markdown",
   "metadata": {},
   "source": [
    "Now that the data is in the right shape, we can visualize it using **pyplot.imshow()** function.\n",
    "To display multiple images in one matplotlib figure, we can use the equivalent **axes.imshow()** function. "
   ]
  },
  {
   "cell_type": "code",
   "execution_count": 4,
   "metadata": {
    "scrolled": false
   },
   "outputs": [
    {
     "data": {
      "text/plain": [
       "<matplotlib.image.AxesImage at 0x22449aa4bc8>"
      ]
     },
     "execution_count": 4,
     "metadata": {},
     "output_type": "execute_result"
    },
    {
     "data": {
      "image/png": "[encoded data removed]",
      "text/plain": [
       "<Figure size 432x288 with 8 Axes>"
      ]
     },
     "metadata": {
      "needs_background": "light"
     },
     "output_type": "display_data"
    }
   ],
   "source": [
    "fig, axarr = plt.subplots(2,4)\n",
    "\n",
    "axarr[0,0].imshow(data.iloc[0].values.reshape(8,8), cmap='gray_r')\n",
    "axarr[0,1].imshow(data.iloc[100].values.reshape(8,8), cmap='gray_r')\n",
    "axarr[0,2].imshow(data.iloc[200].values.reshape(8,8), cmap=\"gray_r\")\n",
    "axarr[0,3].imshow(data.iloc[300].values.reshape(8,8), cmap=\"gray_r\")\n",
    "\n",
    "axarr[1,0].imshow(data.iloc[1000].values.reshape(8,8), cmap=\"gray_r\")\n",
    "axarr[1,1].imshow(data.iloc[1100].values.reshape(8,8), cmap=\"gray_r\")\n",
    "axarr[1,2].imshow(data.iloc[1200].values.reshape(8,8), cmap=\"gray_r\")\n",
    "axarr[1,3].imshow(data.iloc[1300].values.reshape(8,8), cmap=\"gray_r\")"
   ]
  },
  {
   "cell_type": "markdown",
   "metadata": {},
   "source": [
    "# K-Nearest Neighbors model"
   ]
  },
  {
   "cell_type": "markdown",
   "metadata": {},
   "source": [
    "While linear and logistic regression models make assumptions about the linearity between the features and the output labels, the **k-nearest neighbors algorithm** make no such assumption. This allows it to capture nonlinearity in the data.\n",
    "\n",
    "**We will set up a pipeline for training and testing k-nn models.**"
   ]
  },
  {
   "cell_type": "code",
   "execution_count": 5,
   "metadata": {},
   "outputs": [],
   "source": [
    "from sklearn.model_selection import KFold\n",
    "from sklearn.neighbors import KNeighborsClassifier\n",
    "\n",
    "def train_knn(neighbors, train_features, train_target):\n",
    "    model = KNeighborsClassifier(n_neighbors=neighbors)\n",
    "    model.fit(train_features, train_target)\n",
    "    return model\n",
    "\n",
    "def test(model, test_features, test_target):\n",
    "    predictions = model.predict(test_features)\n",
    "    train_test_df = pd.DataFrame()\n",
    "    train_test_df['true_label'] = test_target\n",
    "    train_test_df['predicted_label'] = predictions\n",
    "    correct_mask = train_test_df['predicted_label'] == train_test_df['true_label']\n",
    "    overall_accuracy = sum(correct_mask)/len(train_test_df)\n",
    "    return overall_accuracy\n",
    "\n",
    "def cross_validate(k):\n",
    "    fold_accuracies = []\n",
    "    kf = KFold(n_splits=4, random_state=1, shuffle = True)\n",
    "    for train_index, test_index in kf.split(data):\n",
    "        train_features, test_features = data.loc[train_index], data.loc[test_index]\n",
    "        train_target, test_target = target.loc[train_index], target.loc[test_index]\n",
    "        model = train_knn(k, train_features, train_target)\n",
    "        overall_accuracy = test(model, test_features, test_target)\n",
    "        fold_accuracies.append(overall_accuracy)\n",
    "    return fold_accuracies"
   ]
  },
  {
   "cell_type": "markdown",
   "metadata": {},
   "source": [
    "As the algorithm is ready, let's put it into action. We would go though the process 10 times (*10 k-values*) as the range points out in the next cell."
   ]
  },
  {
   "cell_type": "code",
   "execution_count": 6,
   "metadata": {},
   "outputs": [
    {
     "data": {
      "text/plain": [
       "Text(0.5, 1.0, 'Mean accuracy vs. K values')"
      ]
     },
     "execution_count": 6,
     "metadata": {},
     "output_type": "execute_result"
    },
    {
     "data": {
      "image/png": "[encoded data removed]",
      "text/plain": [
       "<Figure size 720x360 with 1 Axes>"
      ]
     },
     "metadata": {
      "needs_background": "light"
     },
     "output_type": "display_data"
    }
   ],
   "source": [
    "k_values = list(range(1,11))\n",
    "k_accuracies = []\n",
    "\n",
    "for k in k_values:\n",
    "    k_accuracy = cross_validate(k)\n",
    "    k_mean_accuracy = np.mean(k_accuracy)\n",
    "    k_accuracies.append(k_mean_accuracy)\n",
    "    \n",
    "plt.figure(figsize=(10,5))\n",
    "plt.plot(k_values, k_accuracies)\n",
    "plt.title(\"Mean accuracy vs. K values\")"
   ]
  },
  {
   "cell_type": "markdown",
   "metadata": {},
   "source": [
    "There's a **negative correlation** between *k values* and *mean_accuracy*. We can observe a spike at 3 neighbors at the plot but anyway the highest mean accuracy is at the beginning with just *one neighbor*."
   ]
  },
  {
   "cell_type": "markdown",
   "metadata": {},
   "source": [
    "We've already seen how the **KNeighborsClassifier** helped us in image classification, now let's perform a **neural network** with *one hidden layer* for a start."
   ]
  },
  {
   "cell_type": "markdown",
   "metadata": {},
   "source": [
    "# Neural network with one hidden layer"
   ]
  },
  {
   "cell_type": "code",
   "execution_count": 7,
   "metadata": {},
   "outputs": [
    {
     "data": {
      "text/plain": [
       "[<matplotlib.lines.Line2D at 0x2244a5abf48>]"
      ]
     },
     "execution_count": 7,
     "metadata": {},
     "output_type": "execute_result"
    },
    {
     "data": {
      "image/png": "[encoded data removed]",
      "text/plain": [
       "<Figure size 720x360 with 1 Axes>"
      ]
     },
     "metadata": {
      "needs_background": "light"
     },
     "output_type": "display_data"
    }
   ],
   "source": [
    "from sklearn.neural_network import MLPClassifier\n",
    "from sklearn.metrics import accuracy_score\n",
    "\n",
    "neurons = [\n",
    "    (8,),\n",
    "    (16,),\n",
    "    (32,),\n",
    "    (64,),\n",
    "    (128,),\n",
    "    (256,)\n",
    "          ]\n",
    "\n",
    "mean_test_acc = []\n",
    "\n",
    "for n in neurons:\n",
    "    test_accuracies = []\n",
    "    kf = KFold(n_splits=4, random_state=1, shuffle=True)\n",
    "    for train_index, test_index in kf.split(data):\n",
    "        train_features, test_features = data.iloc[train_index], data.iloc[test_index]\n",
    "        train_target, test_target = target.iloc[train_index], target.iloc[test_index]\n",
    "\n",
    "        mlp = MLPClassifier(hidden_layer_sizes=n, max_iter=1000)\n",
    "        mlp.fit(train_features, train_target)\n",
    "        \n",
    "        predictions = mlp.predict(test_features)\n",
    "        test_acc = accuracy_score(test_target, predictions)\n",
    "        test_accuracies.append(test_acc)\n",
    "    \n",
    "    mean_test_acc.append(np.mean(test_accuracies))\n",
    "\n",
    "\n",
    "plt.figure(figsize=(10,5))\n",
    "plt.title(\"test accuracy vs. neurons in 2 hidden layers\")\n",
    "x = [i[0] for i in neurons]\n",
    "plt.plot(x, mean_test_acc, color='green')"
   ]
  },
  {
   "cell_type": "markdown",
   "metadata": {},
   "source": [
    "The **test accuracy** increases with each neuron and we increase the accuracy from *0.93* to *0.975*. The **K-Nearest neighbors model** got an accuracy of *0.985* that is higher than current neural network perfomance.\n",
    "\n",
    "The only problem so far is that we don't have tne information about true or false positives and true or false negatives."
   ]
  },
  {
   "cell_type": "markdown",
   "metadata": {},
   "source": [
    "# Neural network with 2 hidden layers"
   ]
  },
  {
   "cell_type": "code",
   "execution_count": 8,
   "metadata": {},
   "outputs": [
    {
     "data": {
      "text/plain": [
       "[<matplotlib.lines.Line2D at 0x2244a4dabc8>]"
      ]
     },
     "execution_count": 8,
     "metadata": {},
     "output_type": "execute_result"
    },
    {
     "data": {
      "image/png": "[encoded data removed]",
      "text/plain": [
       "<Figure size 720x360 with 1 Axes>"
      ]
     },
     "metadata": {
      "needs_background": "light"
     },
     "output_type": "display_data"
    }
   ],
   "source": [
    "neurons = [\n",
    "    (64, 64),\n",
    "    (128, 128),\n",
    "    (256, 256)\n",
    "          ]\n",
    "\n",
    "mean_test_acc = []\n",
    "\n",
    "for n in neurons:\n",
    "    test_accuracies = []\n",
    "    kf = KFold(n_splits=4, random_state=1, shuffle=True)\n",
    "    for train_index, test_index in kf.split(data):\n",
    "        train_features, test_features = data.iloc[train_index], data.iloc[test_index]\n",
    "        train_target, test_target = target.iloc[train_index], target.iloc[test_index]\n",
    "\n",
    "        mlp = MLPClassifier(hidden_layer_sizes=n, max_iter=1000)\n",
    "        mlp.fit(train_features, train_target)\n",
    "        \n",
    "        predictions = mlp.predict(test_features)\n",
    "        test_acc = accuracy_score(test_target, predictions)\n",
    "        test_accuracies.append(test_acc)\n",
    "    \n",
    "    mean_test_acc.append(np.mean(test_accuracies))\n",
    "        \n",
    "        \n",
    "plt.figure(figsize=(10,5))\n",
    "plt.title(\"Test accuracy vs. neurons in 2 hidden layers\")\n",
    "x = [i[0] for i in neurons]\n",
    "plt.plot(x, mean_test_acc, color='orange')"
   ]
  },
  {
   "cell_type": "markdown",
   "metadata": {},
   "source": [
    "Having **2 hidden layers** in our network, the test accuracy increases from *0.97* till *0.982* that is still lower but very close to **K-Nearest Neighbors model**."
   ]
  },
  {
   "cell_type": "markdown",
   "metadata": {},
   "source": [
    "# Neural network with 3 hidden layers"
   ]
  },
  {
   "cell_type": "code",
   "execution_count": 11,
   "metadata": {},
   "outputs": [
    {
     "data": {
      "text/plain": [
       "[<matplotlib.lines.Line2D at 0x2244a75cec8>]"
      ]
     },
     "execution_count": 11,
     "metadata": {},
     "output_type": "execute_result"
    },
    {
     "data": {
      "image/png": "[encoded data removed]",
      "text/plain": [
       "<Figure size 1080x360 with 1 Axes>"
      ]
     },
     "metadata": {
      "needs_background": "light"
     },
     "output_type": "display_data"
    }
   ],
   "source": [
    "neurons = [\n",
    "    (10, 10, 10),\n",
    "    (64, 64, 64),\n",
    "    (128, 128, 128),\n",
    "    (256, 256, 256)\n",
    "          ]\n",
    "\n",
    "mean_test_acc = []\n",
    "\n",
    "for n in neurons:\n",
    "    test_accuracies = []\n",
    "    kf = KFold(n_splits=4)\n",
    "    for train_index, test_index in kf.split(data):\n",
    "        train_features, test_features = data.iloc[train_index], data.iloc[test_index]\n",
    "        train_target, test_target = target.iloc[train_index], target.iloc[test_index]\n",
    "\n",
    "        mlp = MLPClassifier(hidden_layer_sizes=n, max_iter=1000)\n",
    "        mlp.fit(train_features, train_target)\n",
    "        \n",
    "        predictions = mlp.predict(test_features)\n",
    "        test_acc = accuracy_score(test_target, predictions)\n",
    "        test_accuracies.append(test_acc)\n",
    "    \n",
    "    mean_test_acc.append(np.mean(test_accuracies))\n",
    "        \n",
    "        \n",
    "plt.figure(figsize=(15,5))\n",
    "plt.title(\"Test accuracy vs. neurons in 3 hidden layers\")\n",
    "x = [i[0] for i in neurons]\n",
    "plt.plot(x, mean_test_acc, color='red')"
   ]
  },
  {
   "cell_type": "markdown",
   "metadata": {},
   "source": [
    "Having **three hidden layers**, the test accuracy increases from *0.94* till *0.98*. Current model show better perfomance than previous one with one layer and a bit worse than one with 2 layers. Basically the rule says that the more hidden layers we include in our neural network, the more accuracy score we obtain, although in this research work we showed that this is not always true."
   ]
  },
  {
   "cell_type": "markdown",
   "metadata": {},
   "source": [
    "# Summary"
   ]
  },
  {
   "cell_type": "markdown",
   "metadata": {},
   "source": [
    "In this reseach project we have showed the difference in perfomance in **image classification tasks** between **neural networks** and **K-nn classification models**. Also we compared how the number and size of the hidden layers influence on the overall effectiveness of neural networks.\n",
    "\n",
    "Classifying simple digits is slightly better perfomed with K-nn model than with neural networks with 1, 2 or 3 **hidden layers**. This algorithm allows it to capture nonlinearity in the data. Both neural networks and k-nn models are great for image classification tasks and can be used interchangeably."
   ]
  }
 ],
 "metadata": {
  "anaconda-cloud": {},
  "kernelspec": {
   "display_name": "Python 3",
   "language": "python",
   "name": "python3"
  },
  "language_info": {
   "codemirror_mode": {
    "name": "ipython",
    "version": 3
   },
   "file_extension": ".py",
   "mimetype": "text/x-python",
   "name": "python",
   "nbconvert_exporter": "python",
   "pygments_lexer": "ipython3",
   "version": "3.7.6"
  }
 },
 "nbformat": 4,
 "nbformat_minor": 2
}
