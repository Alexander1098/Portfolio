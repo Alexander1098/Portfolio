{
 "cells": [
  {
   "cell_type": "markdown",
   "metadata": {
    "collapsed": true
   },
   "source": [
    "# Forecasting Bike Renting Project\n",
    "The project has been prepared by Aliaksandr Varonin"
   ]
  },
  {
   "cell_type": "markdown",
   "metadata": {},
   "source": [
    "Welcome to my project of forecasting bike renting! Our goal throughout this process is to try predicting the total number of bikes people rented in a given hour. In order to achieve it we will create several separate machine learning models and evaluate their perfomance!"
   ]
  },
  {
   "cell_type": "markdown",
   "metadata": {
    "collapsed": true
   },
   "source": [
    "The datased that is used in this project is prepared by Hadi Fanaee-T at the University of Porto. It was compiled into a CSV file which we will be using thoughout our research work. The file contains 17380 rows with each row representing the number of bike rentals for a single hour of a single day."
   ]
  },
  {
   "cell_type": "markdown",
   "metadata": {},
   "source": [
    "Let me present you the first five rows of the dataset and the description of relevant columns of the dataset."
   ]
  },
  {
   "cell_type": "code",
   "execution_count": 1,
   "metadata": {
    "collapsed": false
   },
   "outputs": [
    {
     "name": "stdout",
     "output_type": "stream",
     "text": [
      "   index  instant      dteday  season  yr  mnth  hr  holiday  weekday  \\\n",
      "0   3230     3231  2011-05-19       2   0     5  12        0        4   \n",
      "1  15161    15162  2012-09-28       4   1     9  22        0        5   \n",
      "2   3812     3813  2011-06-12       2   0     6  18        0        0   \n",
      "3   1543     1544  2011-03-09       1   0     3  16        0        3   \n",
      "4  14019    14020  2012-08-12       3   1     8   8        0        0   \n",
      "\n",
      "   workingday  weathersit  temp   atemp   hum  windspeed  casual  registered  \\\n",
      "0           1           2  0.58  0.5455  0.78     0.1045      38         130   \n",
      "1           1           2  0.58  0.5455  0.53     0.2239      30         190   \n",
      "2           0           1  0.70  0.6667  0.74     0.1642      69         187   \n",
      "3           1           2  0.34  0.3030  0.76     0.3284      10         102   \n",
      "4           0           1  0.66  0.6212  0.54     0.2239      35          84   \n",
      "\n",
      "   cnt  \n",
      "0  168  \n",
      "1  220  \n",
      "2  256  \n",
      "3  112  \n",
      "4  119  \n",
      "\n",
      "\n",
      "The length of the dataset is 17379 rows\n"
     ]
    }
   ],
   "source": [
    "import pandas as pd\n",
    "import numpy as np\n",
    "\n",
    "np.random.seed(7)\n",
    "\n",
    "data = pd.read_csv(\"bike_rental_hour.csv\")\n",
    "data = data.reindex(np.random.permutation(data.index))\n",
    "data = data.reset_index()\n",
    "\n",
    "print(data.head(5))\n",
    "print(\"\\n\")\n",
    "print(\"The length of the dataset is {} rows\".format(len(data)))"
   ]
  },
  {
   "cell_type": "markdown",
   "metadata": {
    "collapsed": true
   },
   "source": [
    "** Please, review the description of the relevant columns of the dataset.**\n",
    "\n",
    "1. instant - A unique sequential ID number for each row;\n",
    "2. dteday - The date of the rentals;\n",
    "3. season - The season in which the rentals occurred;\n",
    "4. yr - The year the rentals occurred;\n",
    "5. mnth - The month the rentals occurred;\n",
    "6. hr - The hour the rentals occurred;\n",
    "7. holiday - Whether or not the day was a holiday;\n",
    "8. weekday - The day of the week (as a number, 0 to 7);\n",
    "9. workingday - Whether or not the day was a working day;\n",
    "10. weathersit - The weather (as a categorical variable);\n",
    "11. temp - The temperature, on a 0-1 scale;\n",
    "12. atemp - The adjusted temperature;\n",
    "13. hum - The humidity, on a 0-1 scale;\n",
    "14. windspeed - The wind speed, on a 0-1 scale;\n",
    "15. casual - The number of casual riders (people who hadn't previously signed up with the bike sharing program);\n",
    "17. registered - The number of registered riders (people who had already signed up);\n",
    "18. cnt - The total number of bike rentals (casual + registered)."
   ]
  },
  {
   "cell_type": "markdown",
   "metadata": {
    "collapsed": true
   },
   "source": [
    "**Then, let's make a histogram of our target column ('cnt') of our dataset in order to look at the distribution of total rentals per hour.**"
   ]
  },
  {
   "cell_type": "code",
   "execution_count": 2,
   "metadata": {
    "collapsed": false,
    "scrolled": true
   },
   "outputs": [
    {
     "data": {
      "text/plain": [
       "(array([6972., 3705., 2659., 1660.,  987.,  663.,  369.,  188.,  139.,\n",
       "          37.]),\n",
       " array([  1. ,  98.6, 196.2, 293.8, 391.4, 489. , 586.6, 684.2, 781.8,\n",
       "        879.4, 977. ]),\n",
       " <a list of 10 Patch objects>)"
      ]
     },
     "execution_count": 2,
     "metadata": {},
     "output_type": "execute_result"
    },
    {
     "data": {
      "image/png": "[encoded data removed]",
      "text/plain": [
       "<matplotlib.figure.Figure at 0x7f63cce32470>"
      ]
     },
     "metadata": {},
     "output_type": "display_data"
    }
   ],
   "source": [
    "%matplotlib inline\n",
    "import matplotlib.pyplot as plt\n",
    "plt.hist(data['cnt'])"
   ]
  },
  {
   "cell_type": "markdown",
   "metadata": {},
   "source": [
    "Here you may observe that a huge part of our values of the \"cnt\" range between 0 and 100. We see that these values have a descending order."
   ]
  },
  {
   "cell_type": "markdown",
   "metadata": {},
   "source": [
    "**At last, we'll try to find correlation patterns of our target column between the others by using \"corr\" method.**"
   ]
  },
  {
   "cell_type": "code",
   "execution_count": 3,
   "metadata": {
    "collapsed": false,
    "scrolled": false
   },
   "outputs": [
    {
     "name": "stdout",
     "output_type": "stream",
     "text": [
      "index         0.278379\n",
      "instant       0.278379\n",
      "season        0.178056\n",
      "yr            0.250495\n",
      "mnth          0.120638\n",
      "hr            0.394071\n",
      "holiday      -0.030927\n",
      "weekday       0.026900\n",
      "workingday    0.030284\n",
      "weathersit   -0.142426\n",
      "temp          0.404772\n",
      "atemp         0.400929\n",
      "hum          -0.322911\n",
      "windspeed     0.093234\n",
      "casual        0.694564\n",
      "registered    0.972151\n",
      "cnt           1.000000\n",
      "Name: cnt, dtype: float64\n"
     ]
    }
   ],
   "source": [
    "print(data.corr()['cnt'])"
   ]
  },
  {
   "cell_type": "markdown",
   "metadata": {},
   "source": [
    "Before we proceed to create a machine larning model, we need to analyse our data to see if it should be optimized and improved. For example 'hr' column contains the hours during which bikes are rented, from 1 to 24. A machine will treat each hour differently without understanding that certain hours are related. We can bring some order into the process by creating a new column with labels for 'morning', 'afternoon', 'evening', 'night'. This will bundle similar times together, enabling the model to make better decisions."
   ]
  },
  {
   "cell_type": "code",
   "execution_count": 4,
   "metadata": {
    "collapsed": false
   },
   "outputs": [],
   "source": [
    "def assigning(hours):\n",
    "    if hours >= 6 and hours < 12:\n",
    "        return 1\n",
    "    elif hours >= 12 and hours < 18:\n",
    "        return 2\n",
    "    elif hours >= 18 and hours <= 24:\n",
    "        return 3\n",
    "    elif hours >= 0 and hours < 6:\n",
    "        return 4\n",
    "    \n",
    "data['time_label'] = data['hr'].apply(assigning)"
   ]
  },
  {
   "cell_type": "markdown",
   "metadata": {
    "collapsed": true
   },
   "source": [
    "**Our next step** would be dividing the dataset into train and test parts.\n",
    "This will improve machine learning perfomance and prevent it from overfitting."
   ]
  },
  {
   "cell_type": "code",
   "execution_count": 5,
   "metadata": {
    "collapsed": false
   },
   "outputs": [
    {
     "name": "stdout",
     "output_type": "stream",
     "text": [
      "13904\n",
      "3475\n",
      "True\n"
     ]
    }
   ],
   "source": [
    "import math\n",
    "\n",
    "train = data.loc[0:(math.floor(len(data) * 0.8))]\n",
    "test = data.loc[(len(train)):]\n",
    "\n",
    "print(len(train))\n",
    "print(len(test))\n",
    "print(len(train) + len(test) == len(data))"
   ]
  },
  {
   "cell_type": "markdown",
   "metadata": {},
   "source": [
    "We are now going to start **build our machine larning model.** Let's get started with a linear regression model. Linear regression works best when predictors are linearly correlated to the target and also independent. One of the advantages of linear regression is that it's fairly resistant to overfitting because it's straightforward. It can also be prone to underfitting the data, however, and not building a powerful model. This means that linear regression usually isn't the most accurate option."
   ]
  },
  {
   "cell_type": "markdown",
   "metadata": {},
   "source": [
    "Before start, we should check if we need to restrict the features. We will ignore the 'casual' and 'registered' columns because 'cnt' is derived from them. If we're trying to predict the number of people who rent bikes in a given hour ('cnt'), it doesn't make sense that we would already know 'casual' or 'registered' because those numbers are added together to get 'cnt'."
   ]
  },
  {
   "cell_type": "code",
   "execution_count": 6,
   "metadata": {
    "collapsed": false,
    "scrolled": false
   },
   "outputs": [
    {
     "name": "stdout",
     "output_type": "stream",
     "text": [
      "['index', 'instant', 'season', 'yr', 'mnth', 'hr', 'holiday', 'weekday', 'workingday', 'weathersit', 'temp', 'atemp', 'hum', 'windspeed', 'time_label']\n",
      "\n",
      "\n",
      "The mean value of the target column is 189.46308763450142\n",
      "The standard deviation of the target column is 181.38759909186476\n"
     ]
    }
   ],
   "source": [
    "features = [col for col in data.columns if col not in ['cnt', 'casual', 'dteday', 'registered']]\n",
    "print(features)\n",
    "\n",
    "target = 'cnt'\n",
    "print(\"\\n\")\n",
    "print(\"The mean value of the target column is {}\".format(np.mean(data['cnt'])))\n",
    "print(\"The standard deviation of the target column is {}\".format(data['cnt'].std()))"
   ]
  },
  {
   "cell_type": "code",
   "execution_count": 7,
   "metadata": {
    "collapsed": false,
    "scrolled": true
   },
   "outputs": [
    {
     "name": "stdout",
     "output_type": "stream",
     "text": [
      "16723.875309620715\n"
     ]
    }
   ],
   "source": [
    "import numpy\n",
    "from sklearn.linear_model import LinearRegression\n",
    "from sklearn.metrics import mean_squared_error\n",
    "\n",
    "model = LinearRegression()\n",
    "model.fit(train[features], train[target])\n",
    "predictions = model.predict(test[features])\n",
    "\n",
    "mse = mean_squared_error(test[target], predictions)\n",
    "print(mse)"
   ]
  },
  {
   "cell_type": "markdown",
   "metadata": {
    "collapsed": true
   },
   "source": [
    "From the resulting mse we may conclude, that it's quite high. One of the main possible reasons is that the data has a few extremely high rental counts but otherwise mostly low counts. Larger errors are penalized more with MSE, which leads to a higher total error."
   ]
  },
  {
   "cell_type": "markdown",
   "metadata": {},
   "source": [
    "We should include **another machine learning model in our research.** It would be a **decision tree algorithm.** Decision trees tend to predict outcomes much more reliable that linear regression models. Because a decision tree is a fairly complex model, it also tends to overfit, particularly when we don't tweak parameters, for example, maximum depth and minumum number of samples per leaf. Decision trees are also prone to instability - small changes in the input data can result in a very different output model."
   ]
  },
  {
   "cell_type": "code",
   "execution_count": 8,
   "metadata": {
    "collapsed": false
   },
   "outputs": [
    {
     "name": "stdout",
     "output_type": "stream",
     "text": [
      "2889.378463726884\n"
     ]
    }
   ],
   "source": [
    "from sklearn.tree import DecisionTreeRegressor\n",
    "\n",
    "model = DecisionTreeRegressor(min_samples_leaf=5, max_depth = 15, min_samples_split=2)\n",
    "model.fit(train[features], train[target])\n",
    "predictions = model.predict(test[features])\n",
    "\n",
    "mse = mean_squared_error(test[target], predictions)\n",
    "print(mse)"
   ]
  },
  {
   "cell_type": "markdown",
   "metadata": {},
   "source": [
    "This is far better result on even 13.8 thousand points. Now let's tweak some parameters of the model, for example, 'min_samples_leaf', also an optimal parameter 'max_depth' would be set."
   ]
  },
  {
   "cell_type": "code",
   "execution_count": 9,
   "metadata": {
    "collapsed": false
   },
   "outputs": [
    {
     "name": "stdout",
     "output_type": "stream",
     "text": [
      "2883.748843874784\n",
      "2869.9148833553472\n",
      "2966.8437753949856\n",
      "2938.1432269878756\n",
      "3342.087344296064\n"
     ]
    }
   ],
   "source": [
    "i=5\n",
    "\n",
    "while i > 0:\n",
    "    \n",
    "    model = DecisionTreeRegressor(min_samples_leaf=i, max_depth=15, min_samples_split=2)\n",
    "    model.fit(train[features], train[target])\n",
    "    predictions = model.predict(test[features])\n",
    "    \n",
    "    mse = mean_squared_error(test[target], predictions)\n",
    "    print(mse)\n",
    "    i -= 1"
   ]
  },
  {
   "cell_type": "markdown",
   "metadata": {},
   "source": [
    "Tweaking 'min_samples_leaf' parameter led to decrease in mse on around 20 points with a min_samples_leaf equaling 4."
   ]
  },
  {
   "cell_type": "markdown",
   "metadata": {},
   "source": [
    "Let's move to **another machine learning model applicable to our research project.**\n",
    "\n",
    "This is **random forest algorithm** that improves on the decision tree algorithm. Random forests tend to be much more accurate that simple models like linear regression. Due to the way random forests are construcred, they tend to overfit much less that decision trees. Random forests can still be prone to overfitting, though, so it's important to tune parameters like maximum depth and minimum samples per leaf."
   ]
  },
  {
   "cell_type": "markdown",
   "metadata": {},
   "source": [
    "Let's do the research!"
   ]
  },
  {
   "cell_type": "code",
   "execution_count": 10,
   "metadata": {
    "collapsed": false
   },
   "outputs": [
    {
     "name": "stdout",
     "output_type": "stream",
     "text": [
      "1909.8704148006054\n",
      "1853.959156730935\n",
      "1800.294998029098\n",
      "1751.9782810957204\n",
      "1736.1689004516388\n"
     ]
    }
   ],
   "source": [
    "from sklearn.ensemble import RandomForestRegressor\n",
    "\n",
    "i=5\n",
    "\n",
    "while i > 0:\n",
    "    \n",
    "    model = RandomForestRegressor(n_estimators=500, min_samples_leaf=i, min_samples_split=3)\n",
    "    model.fit(train[features], train[target])\n",
    "    predictions = model.predict(test[features])\n",
    "    \n",
    "    mse = mean_squared_error(test[target], predictions)\n",
    "    print(mse)\n",
    "    i -= 1"
   ]
  },
  {
   "cell_type": "markdown",
   "metadata": {
    "collapsed": true
   },
   "source": [
    "Using random forest allowed us to achieve the lowest mse thoughout this research project. Also we've set the most appropriate parameters to minimize the mse. "
   ]
  },
  {
   "cell_type": "markdown",
   "metadata": {},
   "source": [
    "Our MSE is 1736, which is far not perfect value. There's no hard and fast rule about what a \"good\" error rate is, because it depends on the problem we're solving and our error tolerance.\n",
    "\n",
    "In this case, the mean value of our target column is 189.5, and the standard deviation is 181. If we take the square root of our MSE to calculate error in terms of bike rentals, we get 41.7. This means that our average error is 41.7 rentals away from the true value. This is lower than the standard deviation, so our predictions are often accurate."
   ]
  }
 ],
 "metadata": {
  "kernelspec": {
   "display_name": "Python 3",
   "language": "python",
   "name": "python3"
  },
  "language_info": {
   "codemirror_mode": {
    "name": "ipython",
    "version": 3
   },
   "file_extension": ".py",
   "mimetype": "text/x-python",
   "name": "python",
   "nbconvert_exporter": "python",
   "pygments_lexer": "ipython3",
   "version": "3.4.3"
  }
 },
 "nbformat": 4,
 "nbformat_minor": 0
}
